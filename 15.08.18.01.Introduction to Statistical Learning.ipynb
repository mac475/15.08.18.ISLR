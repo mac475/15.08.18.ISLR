{
 "cells": [
  {
   "cell_type": "code",
   "execution_count": 14,
   "metadata": {
    "collapsed": false
   },
   "outputs": [
    {
     "data": {
      "text/html": [
       "<style>\n",
       "    @font-face {\n",
       "        font-family: \"Computer Modern\", \"malgun gothic\";\n",
       "        src: url('http://mirrors.ctan.org/fonts/cm-unicode/fonts/otf/cmunss.otf');\n",
       "    }\n",
       "    div.cell{\n",
       "        width: 100%;\n",
       "    }\n",
       "    ul {\n",
       "        line-height: 145%;\n",
       "        font-size: 90%;\n",
       "    }\n",
       "    li {\n",
       "        margin-bottom: 0.2em;\n",
       "    }\n",
       "    h1 {\n",
       "        font-family: Helvetica, serif;\n",
       "    }\n",
       "    h4{\n",
       "        margin-top: 12px;\n",
       "        margin-bottom: 3px;\n",
       "       }\n",
       "    div.text_cell_render{\n",
       "        font-family: Computer Modern, \"Helvetica Neue\", Arial, Helvetica, Geneva, sans-serif;\n",
       "        line-height: 145%;\n",
       "        font-size: 130%;\n",
       "        width: 90%;\n",
       "//        margin-left:auto;\n",
       "//        margin-right:auto;\n",
       "    }\n",
       "    .CodeMirror{\n",
       "            font-family: \"Source Code Pro\", source-code-pro,Consolas, monospace;\n",
       "    }\n",
       "/*    .prompt{\n",
       "        display: None;\n",
       "    }*/\n",
       "    .text_cell_render h5 {\n",
       "        font-weight: 300;\n",
       "        font-size: 16pt;\n",
       "        color: #4057A1;\n",
       "        font-style: italic;\n",
       "        margin-bottom: 0.5em;\n",
       "        margin-top: 0.5em;\n",
       "        display: block;\n",
       "    }\n",
       "\n",
       "    .warning{\n",
       "        color: rgb( 240, 20, 20 )\n",
       "        }\n",
       "</style>\n",
       "<script>\n",
       "    MathJax.Hub.Config({\n",
       "                        TeX: {\n",
       "                           extensions: [\"AMSmath.js\"]\n",
       "                           },\n",
       "                tex2jax: {\n",
       "                    inlineMath: [ ['$','$'], [\"\\\\(\",\"\\\\)\"] ],\n",
       "                    displayMath: [ ['$$','$$'], [\"\\\\[\",\"\\\\]\"] ]\n",
       "                },\n",
       "                displayAlign: 'center', // Change this to 'center' to center equations.\n",
       "                \"HTML-CSS\": {\n",
       "                    styles: {'.MathJax_Display': {\"margin\": 4}}\n",
       "                }\n",
       "        });\n",
       "</script>"
      ],
      "text/plain": [
       "<IPython.core.display.HTML object>"
      ]
     },
     "execution_count": 14,
     "metadata": {},
     "output_type": "execute_result"
    }
   ],
   "source": [
    "# mac475의 ipython 표준 style을 적용함\n",
    "from IPython.core.display import HTML\n",
    "styles = open(\"styles/custom.css\", \"r\").read()\n",
    "HTML( styles )"
   ]
  },
  {
   "cell_type": "markdown",
   "metadata": {},
   "source": [
    "#2. Statistical Learning"
   ]
  },
  {
   "cell_type": "markdown",
   "metadata": {},
   "source": [
    "##2.1 What is statistical learning"
   ]
  },
  {
   "cell_type": "markdown",
   "metadata": {},
   "source": [
    "\\begin{align}\n",
    "\\\\Y = f(X) + \\epsilon\n",
    "\\end{align}"
   ]
  },
  {
   "cell_type": "markdown",
   "metadata": {},
   "source": [
    "###2.1.1 Why Estimate f?"
   ]
  },
  {
   "cell_type": "markdown",
   "metadata": {},
   "source": [
    "####Prediction"
   ]
  },
  {
   "cell_type": "markdown",
   "metadata": {},
   "source": [
    "- $\\hat{Y} = \\hat{f}(X)$\n",
    "\n",
    "- $E(Y-\\hat{Y})^2 = E[f(X) + \\epsilon-\\hat{f}(X)]^2$이며, 이는 $\\underbrace{[f(X)-\\hat{f}(X)]^2}_{\\mbox{Reducible Error}} + \\underbrace{Var(\\epsilon)}_{\\mbox{Irreducible Error}}$과 같이 구분된다"
   ]
  },
  {
   "cell_type": "markdown",
   "metadata": {},
   "source": [
    "####Inference"
   ]
  },
  {
   "cell_type": "markdown",
   "metadata": {},
   "source": [
    "###2.1.2 How do we estimate f?"
   ]
  },
  {
   "cell_type": "markdown",
   "metadata": {},
   "source": [
    "#여기부터 제대로 요약작성"
   ]
  },
  {
   "cell_type": "markdown",
   "metadata": {},
   "source": [
    "##3.2 Multiple Linear Regression"
   ]
  },
  {
   "cell_type": "markdown",
   "metadata": {},
   "source": [
    "* Multiple Linear Regression은 간단히 Simple Linear Regression을 extend한 것으로 본다"
   ]
  },
  {
   "cell_type": "markdown",
   "metadata": {},
   "source": [
    "* 각각의 predictor별로 분리된 slope(기울기) coefficient(계수)를 single model에 가진다고 본다\n",
    "    $$Y = \\beta_0 + \\beta_1X_1 + \\beta_2X_2 + \\cdots + \\beta_pX_p + \\epsilon$$\n",
    "* 따라서, Advertising의 경우 Multiple Linear Regression 표현시 $sales = \\beta_0 + \\beta_1 \\times TV + \\beta_2 \\times radio + \\beta_3 \\times newspaper + \\epsilon$와 같이 표현가능"
   ]
  },
  {
   "cell_type": "markdown",
   "metadata": {},
   "source": [
    "###3.2.1 Estimating the Regression Coefficients"
   ]
  },
  {
   "cell_type": "markdown",
   "metadata": {},
   "source": [
    "* Prediction Formula : $\\hat{y} = \\hat{\\beta_0} + \\hat{\\beta_1}x_1 + \\hat{\\beta_2}x_2 + \\cdots + \\hat{\\beta_p}x_p$\n",
    "* Parameter들은 Least Squares approach를 통해 estimation되며, 다음과 같이 표현가능\n",
    "  \n",
    "    $$RSS = \\sum\\limits_{i=1}^n(y_i - \\hat{y_i})^2 = \\sum\\limits_{i=1}^n(y_i - \\hat{\\beta_0} - \\hat{\\beta_1}x_{i1} - \\hat{\\beta_2}x_{i2} - \\cdots - \\hat{\\beta_p}x_{ip})^2$$\n",
    "* Simple Linear Regression의 경우 $\\hat{\\beta_1}$과 $\\hat{\\beta_0}$는 다음과 같이 계산가능\n",
    "\n",
    "    $$\\hat{\\beta_1} = \\frac{\\sum\\limits_{i=1}^n(x_i - \\bar{x})(y_i - \\bar{y})}{\\sum\\limits_{i=1}^n(x_i - \\bar{x})} = \\sum\\limits_{i=1}^n(x_i - \\bar{x})(y_i - \\bar{y}) / \\sum\\limits_{i=1}^n(x_i - \\bar{x})$$\n",
    "  \n",
    "    $$\\hat{\\beta_0} = \\bar{y} - \\hat{\\beta_1\\bar{x}}$$\n",
    "* 하지만, Multiple Linear Regression의 경우 계산은 복잡하며 각종 Solution 활용하여 산출\n",
    "* Multiple Linear Regression 시도시, 각 Coefficient들의 값은 반드시 p-value와 함께 검토 필요\n",
    "* 다양한 Coefficient들간의 관계파악을 위해, Correlation matrix를 함께 검토\n",
    "    - Table 3.3의 Simple Linear Regression시 newspaper는 sales에 유의미함 (Coefficient = 0.055, p-value < 0.0001)\n",
    "        <img src=\"images/p72 table 3.3.png\" width = \"65%\"/>\n",
    "    - Table 3.4의 Multiple Linear Regression시 newspaper는 sales에 무의미함 (Coefficient = -0.001, p-value = 0.8599)\n",
    "        <img src=\"images/p74 table 3.4.png\" width = \"65%\"/>\n",
    "    - $\\because$ Table 3.5 Correlation matrix 확인時, newspaper가 아닌 radio, TV에 의한 sales 증가 확인가능\n",
    "        <img src=\"images/p75 table 3.5.png\" width = \"65%\"/>"
   ]
  },
  {
   "cell_type": "markdown",
   "metadata": {},
   "source": [
    "###3.2.2 Some Important Questions"
   ]
  },
  {
   "cell_type": "markdown",
   "metadata": {},
   "source": [
    "* Multiple Linear Regression 수행시 몇가지 중요한 의문을 가짐\n",
    "  1. $X_1, X_2, \\cdots, X_p$중 하나라도 prediction에 중요한 것이 있는가?\n",
    "  2. 모든 predictor들이 Y를 설명하는가? 혹은 일부 subset predictor들만 의미가 있는가?\n",
    "  3. Model은 얼마나 data에 fitting되어 있는가?\n",
    "  4. predictor value가 주어지는 경우, 어떤 response를 predict하는가? prediction accuracy는 어떤가?"
   ]
  },
  {
   "cell_type": "markdown",
   "metadata": {},
   "source": [
    "####One : Is There a Relationship Between the Response and Predictors?\n",
    "$H_0 : \\beta_1 = \\beta_2 = \\cdots = \\beta_p = 0$\n",
    "\n",
    "$H_a$ : 최소한 하나의 $\\beta_j$는 0이 아니다\n",
    "\n",
    "Hypothesis test (가설검정) 위해 F-statistic (F값)을 계산, $F = \\frac{(TSS - RSS)/p}{RSS/(n-p-1)}$이며,\n",
    "\n",
    "이때, $TSS = \\sum(y_i - \\bar{y})^2$, $RSS = \\sum(y_i - \\hat{y_i})^2$이고,\n",
    "\n",
    "$E\\{RSS / (n-p-1)\\} = \\sigma^2$, $E\\{TSS - RSS / p)\\} = \\sigma^2$임\n",
    "\n",
    "여기서, 만약 $H_0$가 맞다면, 즉, presictor와 response간 아무런 관계가 없다면, F값 = 1이 됨\n",
    "\n",
    "반면, 만약 $H_a$가 맞다면, $E\\{TSS - RSS / p)\\} > \\sigma^2$가 되여, F값 > 1이 됨"
   ]
  },
  {
   "cell_type": "markdown",
   "metadata": {},
   "source": [
    "####Two : Deciding on Important Variables\n",
    "* p개의 variables가 존재하는 경우, subset의 경우의 수는 $2^p$개임\n",
    "* 따라서, 모든 variables를 대상으로 Model 수행하는 것은 현실적으로 불가능\n",
    "* 이를 극복하기 위한 3가지의 classical approach가 있음\n",
    "    - Forward selection : null model로 시작하여 variables를 하나씩 추가\n",
    "    - Backward selection : all vriables로 시작하여 variables를 하나씩 감소\n",
    "    - Mixed selection"
   ]
  },
  {
   "cell_type": "markdown",
   "metadata": {},
   "source": [
    "####Three : Model Fit\n",
    "* Model fit 판단위해 RSE와 $R^2$ 활용\n",
    "* variables 증가시 $R^2$는 언제나 증가\n",
    "* variables 증가시 $RSE$는 일반적으로 증가 $RSE = \\sqrt{\\frac{1}{n-p-1}RSS}$ (단, variable개수 p 증가로 인한 $RSS$ 감소가 상대적으로 작은 경우)"
   ]
  },
  {
   "cell_type": "markdown",
   "metadata": {},
   "source": [
    "####Four : Predictions\n",
    "* 실제 모델의 값인 True population regression plane : $f(X) = \\beta_0 + \\beta_1X_1 + \\cdots + \\beta_pX_p$일때\n",
    "* estimation은 : $\\hat{Y} = \\hat{\\beta_0} + \\hat{\\beta_1}X_1 + \\cdots + \\hat{\\beta_p}X_p$이며, 발생되는 inaccuracy는 reducible error에 기인"
   ]
  },
  {
   "cell_type": "markdown",
   "metadata": {
    "collapsed": true
   },
   "source": [
    "##3.3 Other Considerations in the Regression Model\n",
    "###3.3.1 Qualitative Predictors\n",
    "####Predictors with Only Two Levels\n",
    "* Credit card balance를 gender별로 분석위해 qualitative data를 임의의 numerical data로 지정\n",
    "$\n",
    "x_i = \\left\\{\n",
    "              \\begin{array}{rl}\n",
    "                           1 &\\mbox{ if $i$th person is female} \\\\\n",
    "                           0 &\\mbox{ if $i$th person is male}\n",
    "              \\end{array}\n",
    "      \\right.\n",
    "$라 한다면, 그에따른 model은 다음과 같다\n",
    "$\n",
    "y_i = \\beta_0 + \\beta_1x_i + \\epsilon_i = \\left\\{\n",
    "              \\begin{array}{rl}\n",
    "                           \\beta_0 + \\beta_1 + \\epsilon_i &\\mbox{ if $i$th person is female $\\quad$$\\because x_i = 1$ } \\\\\n",
    "                           \\beta_0 + \\epsilon_1 &\\mbox{ if $i$th person is male $\\quad$$\\because x_i = 0$}\n",
    "              \\end{array}\n",
    "      \\right.\n",
    "$\n",
    "<img src=\"images/p84 table 3.7.png\" width = \"65%\"/>\n",
    "* 이때, Coefficient 값 존재, p-value가 상당히 크므로 성별에 따른 credit card balance 차이의 통계적 근거는 없다\n",
    "\n",
    "\n",
    "\n",
    "* 또한,\n",
    "$\n",
    "x_i = \\left\\{\n",
    "              \\begin{array}{rl}\n",
    "                           1 &\\mbox{ if $i$th person is female} \\\\\n",
    "                           -1 &\\mbox{ if $i$th person is male}\n",
    "              \\end{array}\n",
    "      \\right.\n",
    "$라 한다면, 그에따른 model은 다음과 같다\n",
    "$\n",
    "y_i = \\beta_0 + \\beta_1x_i + \\epsilon_i = \\left\\{\n",
    "              \\begin{array}{rl}\n",
    "                           \\beta_0 + \\beta_1 + \\epsilon_i &\\mbox{ if $i$th person is female $\\quad$$\\because x_i = 1$ } \\\\\n",
    "                           \\beta_0 - \\beta_1 +  \\epsilon_1 &\\mbox{ if $i$th person is male $\\quad$$\\because x_i = -1$}\n",
    "              \\end{array}\n",
    "      \\right.\n",
    "$\n",
    "        - 이때, qualitative data를 어떠한 값으로 지정하더라도 final prediction은 동일함\n",
    "\n",
    "####Qualitative Predictors with More than Two Levels\n",
    "$\n",
    "x_{i1} = \\left\\{\n",
    "              \\begin{array}{rl}\n",
    "                           1 &\\mbox{ if $i$th person is Asian} \\\\\n",
    "                           0 &\\mbox{ if $i$th person is not Asian}\n",
    "              \\end{array}\n",
    "      \\right.\n",
    "x_{i2} = \\left\\{\n",
    "              \\begin{array}{rl}\n",
    "                           1 &\\mbox{ if $i$th person is Caucasian} \\\\\n",
    "                           0 &\\mbox{ if $i$th person is not Caucasian}\n",
    "              \\end{array}\n",
    "      \\right.      \n",
    "$라 하면,\n",
    "$\n",
    "y_i = \\beta_0 + \\beta_1x_{i1} + \\beta_2x_{i2} + \\epsilon_i = \\left\\{\n",
    "              \\begin{array}{rl}\n",
    "                           \\beta_0 + \\beta_1 + \\epsilon_i &\\mbox{ if $i$th person is Asian } \\\\\n",
    "                           \\beta_0 + \\beta_2 + \\epsilon_i &\\mbox{ if $i$th person is Gaucasian } \\\\\n",
    "                           \\beta_0 + \\epsilon_1 &\\mbox{ if $i$th person is African American}\n",
    "              \\end{array}\n",
    "      \\right.\n",
    "$\n",
    "<img src=\"images/p84 table 3.7.png\" width = \"65%\"/>\n",
    "* 이때, Coefficient 값 존재, p-value가 상당히 크므로 성별에 따른 credit card balance 차이의 통계적 근거는 없다\n",
    "\n",
    "\n",
    "\n",
    "* 또한,\n",
    "$\n",
    "x_i = \\left\\{\n",
    "              \\begin{array}{rl}\n",
    "                           1 &\\mbox{ if $i$th person is female} \\\\\n",
    "                           -1 &\\mbox{ if $i$th person is male}\n",
    "              \\end{array}\n",
    "      \\right.\n",
    "$라 한다면, 그에따른 model은 다음과 같다\n",
    "$\n",
    "y_i = \\beta_0 + \\beta_1x_i + \\epsilon_i = \\left\\{\n",
    "              \\begin{array}{rl}\n",
    "                           \\beta_0 + \\beta_1 + \\epsilon_i &\\mbox{ if $i$th person is female $\\quad$$\\because x_i = 1$ } \\\\\n",
    "                           \\beta_0 - \\beta_1 +  \\epsilon_1 &\\mbox{ if $i$th person is male $\\quad$$\\because x_i = -1$}\n",
    "              \\end{array}\n",
    "      \\right.\n",
    "$\n",
    "<img src=\"images/p86 table 3.8.png\" width = \"65%\"/>\n",
    "* 이때, 민족별 Coefficient 값 존재, p-value가 크므로 민족별 credit card balance 차이의 통계적 근거는 없다"
   ]
  },
  {
   "cell_type": "markdown",
   "metadata": {
    "collapsed": true
   },
   "source": [
    "###3.3.2 Extentions of the Linear Model\n",
    "* Linear Regression은 매우 훌륭한 tool이나, 두가지 restrictive assumption이 있음\n",
    "    - Predictor와 Response는 additive임 : predictor $X_j$ 변화로 인한 효과는 다른 predictor들과 independent함\n",
    "    - Predictor와 Response는 linear임 : $X_j$ 한 단위 변화로 인한 Y값의 변화는 constant임"
   ]
  },
  {
   "cell_type": "code",
   "execution_count": null,
   "metadata": {
    "collapsed": true
   },
   "outputs": [],
   "source": []
  },
  {
   "cell_type": "code",
   "execution_count": null,
   "metadata": {
    "collapsed": true
   },
   "outputs": [],
   "source": []
  },
  {
   "cell_type": "code",
   "execution_count": null,
   "metadata": {
    "collapsed": true
   },
   "outputs": [],
   "source": []
  },
  {
   "cell_type": "markdown",
   "metadata": {},
   "source": [
    "\\begin{align}\n",
    "\\dot{x} & = \\sigma(y-x) \\\\\n",
    "\\dot{y} & = \\rho x - y - xz \\\\\n",
    "\\dot{z} & = -\\beta z + xy\n",
    "\\end{align}"
   ]
  },
  {
   "cell_type": "markdown",
   "metadata": {},
   "source": [
    "\\begin{align}\n",
    "E\\{\\frac{RSS}{(n-p-1)}\\} = \\sigma^2\n",
    "\\end{align}"
   ]
  }
 ],
 "metadata": {
  "kernelspec": {
   "display_name": "Python 3",
   "language": "python",
   "name": "python3"
  },
  "language_info": {
   "codemirror_mode": {
    "name": "ipython",
    "version": 3
   },
   "file_extension": ".py",
   "mimetype": "text/x-python",
   "name": "python",
   "nbconvert_exporter": "python",
   "pygments_lexer": "ipython3",
   "version": "3.4.3"
  }
 },
 "nbformat": 4,
 "nbformat_minor": 0
}
