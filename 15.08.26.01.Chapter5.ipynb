{
 "cells": [
  {
   "cell_type": "code",
   "execution_count": 1,
   "metadata": {
    "collapsed": false
   },
   "outputs": [
    {
     "data": {
      "text/html": [
       "<style>\n",
       "    @font-face {\n",
       "        font-family: \"Computer Modern\", \"malgun gothic\";\n",
       "        src: url('http://mirrors.ctan.org/fonts/cm-unicode/fonts/otf/cmunss.otf');\n",
       "    }\n",
       "    div.cell{\n",
       "        width: 100%;\n",
       "    }\n",
       "    ul {\n",
       "        line-height: 145%;\n",
       "        font-size: 90%;\n",
       "    }\n",
       "    li {\n",
       "        margin-bottom: 0.2em;\n",
       "    }\n",
       "    h1 {\n",
       "        font-family: Helvetica, serif;\n",
       "    }\n",
       "    h4{\n",
       "        margin-top: 12px;\n",
       "        margin-bottom: 3px;\n",
       "       }\n",
       "    div.text_cell_render{\n",
       "        font-family: Computer Modern, \"Helvetica Neue\", Arial, Helvetica, Geneva, sans-serif;\n",
       "        line-height: 145%;\n",
       "        font-size: 130%;\n",
       "        width: 90%;\n",
       "//        margin-left:auto;\n",
       "//        margin-right:auto;\n",
       "    }\n",
       "    .CodeMirror{\n",
       "            font-family: \"Source Code Pro\", source-code-pro,Consolas, monospace;\n",
       "    }\n",
       "/*    .prompt{\n",
       "        display: None;\n",
       "    }*/\n",
       "    .text_cell_render h5 {\n",
       "        font-weight: 300;\n",
       "        font-size: 16pt;\n",
       "        color: #4057A1;\n",
       "        font-style: italic;\n",
       "        margin-bottom: 0.5em;\n",
       "        margin-top: 0.5em;\n",
       "        display: block;\n",
       "    }\n",
       "\n",
       "    .warning{\n",
       "        color: rgb( 240, 20, 20 )\n",
       "        }\n",
       "</style>\n",
       "<script>\n",
       "    MathJax.Hub.Config({\n",
       "                        TeX: {\n",
       "                           extensions: [\"AMSmath.js\"]\n",
       "                           },\n",
       "                tex2jax: {\n",
       "                    inlineMath: [ ['$','$'], [\"\\\\(\",\"\\\\)\"] ],\n",
       "                    displayMath: [ ['$$','$$'], [\"\\\\[\",\"\\\\]\"] ]\n",
       "                },\n",
       "                displayAlign: 'center', // Change this to 'center' to center equations.\n",
       "                \"HTML-CSS\": {\n",
       "                    styles: {'.MathJax_Display': {\"margin\": 4}}\n",
       "                }\n",
       "        });\n",
       "</script>"
      ],
      "text/plain": [
       "<IPython.core.display.HTML object>"
      ]
     },
     "execution_count": 1,
     "metadata": {},
     "output_type": "execute_result"
    }
   ],
   "source": [
    "# mac475의 ipython 표준 style을 적용함\n",
    "from IPython.core.display import HTML\n",
    "styles = open(\"styles/custom.css\", \"r\").read()\n",
    "HTML( styles )"
   ]
  },
  {
   "cell_type": "markdown",
   "metadata": {},
   "source": [
    "#5. Resampling Methods\n",
    "* *Resampling method*는 training set으로부터 반복적으로 sample 추출하고 model fitting 수행\n",
    "* 주요한 resampling methods는 cross-validation과 bootstrap임"
   ]
  },
  {
   "cell_type": "markdown",
   "metadata": {},
   "source": [
    "###5.1.1 The Validation Set Approach\n",
    "* validation set approach : 가용한 observation을 training set과 validation set으로 분리하여 test MSE를 추정\n",
    "\n",
    "###5.1.2 Leave-One-Out Cross-Validation\n",
    "* **single observation**을 validation으로 활용하고, 나머지를 training으로 활용하여 model fit하는 방법\n",
    "  $$CV_{(n)} = \\frac{1}{n}\\sum\\limits_{i=1}^nMSE_i$$\n",
    "    * 따라서, observation의 개수 n-1 회의 fitting 수행 필요 : time consuming → expensive to implement임\n",
    "    * 하지만, least sqaure linear, polynominal regression의 경우 single fitting 통해 CV 가능방법 존재 (특이케이스임)\n",
    "$$CV_{(n)} = \\frac{1}{n}\\sum\\limits_{i=1}^n\\left(\\frac{y_i-\\hat{y}_i}{1-h_i}\\right)$$\n",
    "    \n",
    "    - leverage인 $h_i$는 다음 define (leverage statistic : this statistic indecates an observation with high leverage)\n",
    "    $$h_i = \\frac{1}{n} + \\frac{(x_i - \\bar{x})^2}{\\sum\\limits_{ i\\prime = 1}^n(x_{i\\prime} - \\bar{x} )^2 }$$\n",
    "        $$1/n < h_i < 1$$"
   ]
  },
  {
   "cell_type": "markdown",
   "metadata": {},
   "source": [
    "###5.1.3 k-fold Cross Validation\n",
    "* LOOCV의 model fittng 횟수는 부담스러운 방법일 수 있음\n",
    "* 일반적으로 k-fold CV를 LOOCV의 대안으로 활용\n",
    "* k-fold CV : observation을 k-group (fold)로 분리후 1번째 fold를 validattion set, k-1 folds를 fitting 사용\n",
    "    - k번 fit하여 CV 산출 (일반적으로 k =5, 10 정도 적용 : 횟수의 이점도 있으나 **bias-variance trade-off도 있음**)\n",
    "    $$CV_{(k)} = \\frac{1}{k}\\sum\\limits_{i=1}^kMSE_i$$"
   ]
  },
  {
   "cell_type": "markdown",
   "metadata": {},
   "source": [
    "###5.1.4 Bias-Variance Trade-Off for k-Fold Cross-Validation\n",
    "* Bias-Variance Trade-Off에 대한 필수 참고 [링크](http://scott.fortmann-roe.com/docs/BiasVariance.html)\n",
    "\n",
    "\n",
    "* k-fold CV는 LOOCV 대비 더 정확한 estimate을 제공 (이는 bias-variance trade-ff에 기인)\n",
    "* LOOCV : low bias, high variance\n",
    "* k-fold : high bias, low variance\n",
    "\n",
    "\n",
    "* 모델에서의 에러발생의 원인\n",
    "    * Error due to bias\n",
    "        - The error due to bias is taken as the **difference between the expected (or average) prediction of our model and the correct value** which we are trying to predict\n",
    "        - 즉, 예측결과와 실제값의 차이에서 기인. 모델 복잡도가 낮다면 (즉, linear) bias는 높을것, 모델 복잡도가 높다면 (즉, smoother) bias는 낮을것\n",
    "\n",
    "    * Error due to variance\n",
    "        - The error due to variance is taken as the **variability of a model prediction for a given data point**\n",
    "        - 즉, 예측결과의 가변성에서 기인. 모델 복잡도가 낮다면 (즉, linar) variance는 낮을것, 모델 복잡도가 높다면 (즉, smoother) variance는 높을것\n",
    "\n",
    "    * 선택해야 한다면, Bias가 높되, variance가 낮은 간단한 모델을 관리해 가는 것이 바람직함\n",
    "\n",
    "<img src=\"images/figure bias-variance-trade-off.png\" width = \"65%\"/>\n",
    "<img src=\"images/figure bias-variance-comparison.png\" width = \"65%\"/>"
   ]
  },
  {
   "cell_type": "markdown",
   "metadata": {},
   "source": [
    "###5.1.5 Cross-Validation on Classification Problems\n",
    "* CV를 regression 통한 quantitative외의 qualitative 대상의 classification 적용시 MSE 대신 Error율을 사용\n",
    "  $$CV_{(n)} = \\frac{1}{n}\\sum\\limits_{i=1}^nErr_i$$\n",
    "* logistic regression은 다음과 같이 quadratic으로 쉽게 확장가능\n",
    "  $$log\\left(\\frac{p}{1-p}\\right) = \\beta_0 + \\beta_1X_1 + \\beta_2X_2^2 + \\beta_3X_2 + \\beta_4X_2^2$$\n",
    "* 다음과 같이 predictor에 대한 polynominal 통해 Bayes decision boundary을 추정해 갈 수 있음\n",
    "    * 그렇다면, 최적의 logistic regression model을 어떻게 선정하는가?\n",
    "  <img src=\"images/p185 figure 5.7.png\" width = \"65%\"/>\n",
    "    * 아래를 보면, {갈색 : true, 검은색 : CV, 파란색 : training} true와 CV는 전체적으로 polynominal따라 동일하게 U-shape이며, 유사경향을 보임. 따라서, 최적의 model을 위해 CV 통한 Error rate을 활용한다면 modeling에 유용\n",
    "  <img src=\"images/p186 figure 5.8.png\" width = \"75%\"/>"
   ]
  },
  {
   "cell_type": "markdown",
   "metadata": {},
   "source": [
    "##5.2 The Bootstrap\n",
    "* Bootstrap은 주어진 estimator나 statistical learning method와 관련된 불확실성을 quantify하는 도구로 활용\n",
    "    * 가령, linear model에서의 regression coefficient의 variability 등\n",
    "    * 아래를 참고, bootstrap approach (Obs : observations의 약자로 추정함)\n",
    "    <img src=\"images/p190 figure 5.11.png\" width = \"75%\"/>\n",
    "* CV를 통해, model의 MSE, 혹은 Error rate의 추세를 파악하게 되며, 각 모델을 구성하는 각종 coefficient를 추정하기 위해 bootstrap을 활용\n",
    "* 참고 : The bootstrap approach can be used to assess the variability of the coefficient estimates and predictions fro m a statistical learning method. Here we use the bootstrap approach in order to assess the variability of the estimates for $β_0$ and $β_1$, the intercept and slope terms for the linear regression model that uses horsepower to predict mpg in the Auto data set"
   ]
  }
 ],
 "metadata": {
  "kernelspec": {
   "display_name": "Python 3",
   "language": "python",
   "name": "python3"
  },
  "language_info": {
   "codemirror_mode": {
    "name": "ipython",
    "version": 3
   },
   "file_extension": ".py",
   "mimetype": "text/x-python",
   "name": "python",
   "nbconvert_exporter": "python",
   "pygments_lexer": "ipython3",
   "version": "3.4.3"
  }
 },
 "nbformat": 4,
 "nbformat_minor": 0
}
